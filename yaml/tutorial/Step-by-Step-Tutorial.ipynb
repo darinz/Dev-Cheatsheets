{
  "cells": [
    {
      "cell_type": "markdown",
      "metadata": {},
      "source": [
        "# Step-by-Step Tutorial on Creating YAML Files\n\n<p align=\"center\">\n  <img src=\"https://img.shields.io/badge/YAML-CB171E?style=flat-square&logo=yaml&logoColor=white\" alt=\"YAML\" />\n  <img src=\"https://img.shields.io/badge/Python-3776AB?style=flat-square&logo=python&logoColor=white\" alt=\"Python\" />\n  <img src=\"https://img.shields.io/badge/Beginner-Friendly-green?style=flat-square\" alt=\"Beginner Friendly\" />\n</p>\n\n---\n\n> **Complete beginner's guide to YAML file creation, manipulation, and Python integration with practical examples and best practices.**\n\n## Table of Contents\n\n- [Introduction](#introduction)\n- [Step 1: Understanding YAML Syntax](#step-1-understanding-yaml-syntax)\n- [Step 2: Setting Up Your Environment](#step-2-setting-up-your-environment)\n- [Step 3: Creating Your First YAML File](#step-3-creating-your-first-yaml-file)\n- [Step 4: Working with Data Types](#step-4-working-with-data-types)\n- [Step 5: Advanced YAML Structures](#step-5-advanced-yaml-structures)\n- [Step 6: Python Integration](#step-6-python-integration)\n- [Step 7: Validation and Testing](#step-7-validation-and-testing)\n- [Step 8: Real-World Examples](#step-8-real-world-examples)\n- [Step 9: Best Practices](#step-9-best-practices)\n- [Step 10: Troubleshooting](#step-10-troubleshooting)\n\n## Introduction\n\nYAML (YAML Ain't Markup Language) is a human-readable data serialization format designed for simplicity and readability. It's widely used for configuration files, data exchange, and application settings. This tutorial will guide you through creating, editing, and using YAML files with Python.\n\n### Why YAML?\n\n- **Human-readable**: Easy to read and write\n- **Language-agnostic**: Works with any programming language\n- **Hierarchical**: Supports complex nested data structures\n- **Comments**: Allows documentation within files\n- **References**: Supports anchors and aliases for reusability\n\n## Step 1: Understanding YAML Syntax\n\n### Basic Elements\n\nYAML uses indentation to represent structure. Here are the fundamental elements:\n\n#### Key-Value Pairs"
      ]
    },
    {
      "cell_type": "markdown",
      "metadata": {},
      "source": [
        "```yaml\n# Simple key-value pair\nname: John Doe\nage: 30\nemail: john@example.com\n```"
      ]
    },
    {
      "cell_type": "markdown",
      "metadata": {},
      "source": [
        "#### Nested Structures"
      ]
    },
    {
      "cell_type": "markdown",
      "metadata": {},
      "source": [
        "```yaml\n# Nested key-value pairs\nperson:\n  name: John Doe\n  age: 30\n  address:\n    street: 123 Main St\n    city: Anytown\n    state: CA\n    zip: 12345\n```"
      ]
    },
    {
      "cell_type": "markdown",
      "metadata": {},
      "source": [
        "#### Lists/Arrays"
      ]
    },
    {
      "cell_type": "markdown",
      "metadata": {},
      "source": [
        "```yaml\n# Simple list\nhobbies:\n  - reading\n  - cycling\n  - hiking\n  - swimming\n\n# List of objects\nusers:\n  - name: Alice\n    role: admin\n    email: alice@example.com\n  - name: Bob\n    role: user\n    email: bob@example.com\n  - name: Charlie\n    role: guest\n    email: charlie@example.com\n```"
      ]
    },
    {
      "cell_type": "markdown",
      "metadata": {},
      "source": [
        "#### Mixed Structures"
      ]
    },
    {
      "cell_type": "markdown",
      "metadata": {},
      "source": [
        "```yaml\n# Combining all elements\ncompany:\n  name: TechCorp\n  founded: 2020\n  employees:\n    - name: Alice Johnson\n      position: CEO\n      department: Executive\n      skills:\n        - leadership\n        - strategy\n        - management\n    - name: Bob Smith\n      position: Developer\n      department: Engineering\n      skills:\n        - python\n        - javascript\n        - docker\n  departments:\n    engineering:\n      head: Bob Smith\n      size: 15\n    marketing:\n      head: Carol Davis\n      size: 8\n```"
      ]
    },
    {
      "cell_type": "markdown",
      "metadata": {},
      "source": [
        "### Indentation Rules\n\n- **Use spaces, not tabs**: YAML is sensitive to indentation\n- **Be consistent**: Use the same number of spaces for each level\n- **Recommended**: 2 spaces per level\n- **Never mix**: Don't mix tabs and spaces"
      ]
    },
    {
      "cell_type": "markdown",
      "metadata": {},
      "source": [
        "```yaml\n# ✅ Correct - consistent 2-space indentation\nparent:\n  child:\n    grandchild: value\n    another_child: value\n\n# ❌ Wrong - mixed indentation\nparent:\n  child:\n   grandchild: value  # Inconsistent\n```"
      ]
    },
    {
      "cell_type": "markdown",
      "metadata": {},
      "source": [
        "## Step 2: Setting Up Your Environment\n\n### Required Tools\n\n1. **Text Editor** with YAML support:\n   - **VS Code**: Excellent YAML support with extensions\n   - **Sublime Text**: Lightweight and powerful\n   - **Atom**: Open-source with good YAML support\n   - **Vim/Emacs**: For advanced users\n\n2. **Python Environment**:\n   - Python 3.6 or higher\n   - PyYAML library\n\n### Installing PyYAML"
      ]
    },
    {
      "cell_type": "markdown",
      "metadata": {},
      "source": [
        "```bash\n# Install PyYAML\npip install pyyaml\n\n# Verify installation\npython -c \"import yaml; print(yaml.__version__)\"\n```"
      ]
    },
    {
      "cell_type": "markdown",
      "metadata": {},
      "source": [
        "### VS Code Setup (Recommended)\n\n1. Install VS Code\n2. Install YAML extension: `redhat.vscode-yaml`\n3. Configure YAML settings in `settings.json`:"
      ]
    },
    {
      "cell_type": "markdown",
      "metadata": {},
      "source": [
        "```json\n{\n  \"yaml.format.enable\": true,\n  \"yaml.validate\": true,\n  \"yaml.schemas\": {},\n  \"yaml.customTags\": [],\n  \"yaml.format.singleQuote\": false,\n  \"yaml.format.bracketSpacing\": true,\n  \"yaml.format.proseWrap\": \"preserve\"\n}\n```"
      ]
    },
    {
      "cell_type": "markdown",
      "metadata": {},
      "source": [
        "## Step 3: Creating Your First YAML File\n\n### Basic Configuration File\n\nLet's create a simple application configuration:"
      ]
    },
    {
      "cell_type": "markdown",
      "metadata": {},
      "source": [
        "```yaml\n# app_config.yaml\napplication:\n  name: MyWebApp\n  version: 1.0.0\n  description: A sample web application\n\nserver:\n  host: localhost\n  port: 8080\n  debug: true\n\ndatabase:\n  type: postgresql\n  host: db.example.com\n  port: 5432\n  name: myapp_db\n  user: app_user\n  password: ${DB_PASSWORD}  # Environment variable\n\nfeatures:\n  enable_signup: true\n  enable_logging: true\n  logging_level: info\n  max_file_size: 10MB\n```"
      ]
    },
    {
      "cell_type": "markdown",
      "metadata": {},
      "source": [
        "### Steps to Create:\n\n1. **Open your text editor**\n2. **Create a new file**\n3. **Save with `.yaml` extension**: `app_config.yaml`\n4. **Write the content** (copy the example above)\n5. **Save the file**\n\n### File Organization\n\nOrganize your YAML files logically:"
      ]
    },
    {
      "cell_type": "code",
      "execution_count": null,
      "metadata": {},
      "outputs": [],
      "source": [
        "project/\n├── config/\n│   ├── app_config.yaml\n│   ├── database_config.yaml\n│   └── logging_config.yaml\n├── data/\n│   ├── users.yaml\n│   └── products.yaml\n└── templates/\n    ├── deployment.yaml\n    └── service.yaml\n"
      ]
    },
    {
      "cell_type": "markdown",
      "metadata": {},
      "source": [
        "## Step 4: Working with Data Types\n\n### YAML Data Types\n\nYAML automatically detects data types, but you can also specify them explicitly:\n\n#### Strings"
      ]
    },
    {
      "cell_type": "markdown",
      "metadata": {},
      "source": [
        "```yaml\n# Simple strings\nname: John Doe\ntitle: \"Software Engineer\"\ndescription: |\n  This is a multi-line\n  string that preserves\n  line breaks\n\n# Quoted strings (useful for special characters)\nmessage: \"Hello: World\"\npath: \"C:\\\\Users\\\\John\\\\Documents\"\n```"
      ]
    },
    {
      "cell_type": "markdown",
      "metadata": {},
      "source": [
        "#### Numbers"
      ]
    },
    {
      "cell_type": "markdown",
      "metadata": {},
      "source": [
        "```yaml\n# Integers\nage: 30\ncount: 100\n\n# Floats\nprice: 19.99\ntemperature: 23.5\n\n# Scientific notation\ndistance: 1.5e6\n```"
      ]
    },
    {
      "cell_type": "markdown",
      "metadata": {},
      "source": [
        "#### Booleans"
      ]
    },
    {
      "cell_type": "markdown",
      "metadata": {},
      "source": [
        "```yaml\n# Boolean values\nenabled: true\ndisabled: false\ndebug: yes\nproduction: no\n```"
      ]
    },
    {
      "cell_type": "markdown",
      "metadata": {},
      "source": [
        "#### Null Values"
      ]
    },
    {
      "cell_type": "markdown",
      "metadata": {},
      "source": [
        "```yaml\n# Null/None values\nmiddle_name: null\noptional_field: ~\n```"
      ]
    },
    {
      "cell_type": "markdown",
      "metadata": {},
      "source": [
        "#### Dates and Times"
      ]
    },
    {
      "cell_type": "markdown",
      "metadata": {},
      "source": [
        "```yaml\n# ISO 8601 format\ncreated_at: 2023-12-01T10:30:00Z\nupdated_at: 2023-12-01T15:45:30+00:00\nbirth_date: 1990-05-15\n```"
      ]
    },
    {
      "cell_type": "markdown",
      "metadata": {},
      "source": [
        "## Step 5: Advanced YAML Structures\n\n### Anchors and Aliases\n\nYAML supports references to avoid repetition:"
      ]
    },
    {
      "cell_type": "markdown",
      "metadata": {},
      "source": [
        "```yaml\n# Define reusable content\ndefaults: &defaults\n  timeout: 30\n  retries: 3\n  cache: true\n\n# Use in multiple services\napi_service:\n  <<: *defaults  # Merge defaults\n  name: api\n  port: 8000\n\nweb_service:\n  <<: *defaults  # Merge defaults\n  name: web\n  port: 8080\n\n# Multiple anchors\ndevelopment: &dev\n  environment: development\n  debug: true\n\nproduction: &prod\n  environment: production\n  debug: false\n\n# Use both\ndev_config:\n  <<: *dev\n  database: dev_db\n\nprod_config:\n  <<: *prod\n  database: prod_db\n```"
      ]
    },
    {
      "cell_type": "markdown",
      "metadata": {},
      "source": [
        "### Complex Nested Structures"
      ]
    },
    {
      "cell_type": "markdown",
      "metadata": {},
      "source": [
        "```yaml\n# Advanced configuration\napplication:\n  metadata:\n    name: MyApp\n    version: 1.0.0\n    description: A comprehensive application\n  \n  configuration:\n    environment: production\n    features:\n      authentication:\n        enabled: true\n        providers:\n          - name: google\n            client_id: ${GOOGLE_CLIENT_ID}\n            scopes:\n              - email\n              - profile\n          - name: github\n            client_id: ${GITHUB_CLIENT_ID}\n            scopes:\n              - user\n              - repo\n    \n    database:\n      primary:\n        type: postgresql\n        host: db-primary.example.com\n        port: 5432\n        name: myapp_prod\n        pool:\n          min_size: 5\n          max_size: 20\n          timeout: 30\n      \n      replica:\n        type: postgresql\n        host: db-replica.example.com\n        port: 5432\n        name: myapp_prod_readonly\n        pool:\n          min_size: 3\n          max_size: 10\n          timeout: 30\n    \n    caching:\n      redis:\n        host: redis.example.com\n        port: 6379\n        database: 0\n        ttl: 3600\n      \n      memory:\n        max_size: 100MB\n        ttl: 300\n    \n    monitoring:\n      metrics:\n        enabled: true\n        interval: 60\n        endpoints:\n          - /metrics\n          - /health\n      \n      logging:\n        level: info\n        format: json\n        output:\n          - file: /var/log/app.log\n          - stdout\n        rotation:\n          max_size: 100MB\n          max_files: 10\n```"
      ]
    },
    {
      "cell_type": "markdown",
      "metadata": {},
      "source": [
        "## Step 6: Python Integration\n\n### Reading YAML Files"
      ]
    },
    {
      "cell_type": "code",
      "execution_count": null,
      "metadata": {},
      "outputs": [],
      "source": [
        "import yaml\nimport os\n\n# Basic reading\ndef read_config(filename):\n    \"\"\"Read YAML configuration file.\"\"\"\n    try:\n        with open(filename, 'r', encoding='utf-8') as file:\n            config = yaml.safe_load(file)\n        return config\n    except FileNotFoundError:\n        print(f\"Configuration file {filename} not found\")\n        return None\n    except yaml.YAMLError as e:\n        print(f\"Error parsing YAML file: {e}\")\n        return None\n\n# Usage\nconfig = read_config('app_config.yaml')\nif config:\n    print(f\"App: {config['application']['name']}\")\n    print(f\"Server: {config['server']['host']}:{config['server']['port']}\")\n"
      ]
    },
    {
      "cell_type": "markdown",
      "metadata": {},
      "source": [
        "### Writing YAML Files"
      ]
    },
    {
      "cell_type": "code",
      "execution_count": null,
      "metadata": {},
      "outputs": [],
      "source": [
        "import yaml\n\ndef write_config(data, filename):\n    \"\"\"Write data to YAML file.\"\"\"\n    try:\n        with open(filename, 'w', encoding='utf-8') as file:\n            yaml.dump(data, file, default_flow_style=False, indent=2)\n        print(f\"Configuration written to {filename}\")\n    except Exception as e:\n        print(f\"Error writing file: {e}\")\n\n# Example data\napp_data = {\n    'application': {\n        'name': 'MyNewApp',\n        'version': '2.0.0',\n        'description': 'Updated application'\n    },\n    'server': {\n        'host': '0.0.0.0',\n        'port': 9000,\n        'debug': False\n    },\n    'features': {\n        'enable_signup': True,\n        'enable_logging': True,\n        'logging_level': 'warn'\n    }\n}\n\n# Write to file\nwrite_config(app_data, 'new_config.yaml')\n"
      ]
    },
    {
      "cell_type": "markdown",
      "metadata": {},
      "source": [
        "### Advanced Python Operations"
      ]
    },
    {
      "cell_type": "code",
      "execution_count": null,
      "metadata": {},
      "outputs": [],
      "source": [
        "import yaml\nfrom typing import Dict, Any, List\n\nclass YAMLConfigManager:\n    \"\"\"Advanced YAML configuration manager.\"\"\"\n    \n    def __init__(self, config_file: str):\n        self.config_file = config_file\n        self.config = self.load_config()\n    \n    def load_config(self) -> Dict[str, Any]:\n        \"\"\"Load configuration from file.\"\"\"\n        try:\n            with open(self.config_file, 'r', encoding='utf-8') as file:\n                return yaml.safe_load(file) or {}\n        except FileNotFoundError:\n            print(f\"Config file {self.config_file} not found, creating new one\")\n            return {}\n        except yaml.YAMLError as e:\n            print(f\"Error parsing YAML: {e}\")\n            return {}\n    \n    def save_config(self) -> bool:\n        \"\"\"Save configuration to file.\"\"\"\n        try:\n            with open(self.config_file, 'w', encoding='utf-8') as file:\n                yaml.dump(self.config, file, default_flow_style=False, indent=2)\n            return True\n        except Exception as e:\n            print(f\"Error saving config: {e}\")\n            return False\n    \n    def get(self, key_path: str, default=None):\n        \"\"\"Get value using dot notation (e.g., 'server.host').\"\"\"\n        keys = key_path.split('.')\n        value = self.config\n        \n        for key in keys:\n            if isinstance(value, dict) and key in value:\n                value = value[key]\n            else:\n                return default\n        \n        return value\n    \n    def set(self, key_path: str, value: Any) -> bool:\n        \"\"\"Set value using dot notation.\"\"\"\n        keys = key_path.split('.')\n        config = self.config\n        \n        # Navigate to the parent of the target key\n        for key in keys[:-1]:\n            if key not in config:\n                config[key] = {}\n            config = config[key]\n        \n        # Set the final value\n        config[keys[-1]] = value\n        return True\n    \n    def update(self, updates: Dict[str, Any]) -> bool:\n        \"\"\"Update multiple values at once.\"\"\"\n        for key_path, value in updates.items():\n            self.set(key_path, value)\n        return self.save_config()\n\n# Usage example\nconfig_manager = YAMLConfigManager('app_config.yaml')\n\n# Get values\nserver_host = config_manager.get('server.host', 'localhost')\ndebug_mode = config_manager.get('server.debug', False)\n\n# Set values\nconfig_manager.set('server.port', 9090)\nconfig_manager.set('features.new_feature', True)\n\n# Update multiple values\nupdates = {\n    'application.version': '1.1.0',\n    'database.host': 'new-db.example.com',\n    'logging.level': 'debug'\n}\nconfig_manager.update(updates)\n"
      ]
    },
    {
      "cell_type": "markdown",
      "metadata": {},
      "source": [
        "## Step 7: Validation and Testing\n\n### YAML Validation"
      ]
    },
    {
      "cell_type": "code",
      "execution_count": null,
      "metadata": {},
      "outputs": [],
      "source": [
        "import yaml\nfrom typing import Dict, Any, List, Tuple\n\ndef validate_yaml_file(filename: str) -> Tuple[bool, List[str]]:\n    \"\"\"Validate YAML file syntax and structure.\"\"\"\n    errors = []\n    \n    try:\n        with open(filename, 'r', encoding='utf-8') as file:\n            content = yaml.safe_load(file)\n        \n        if content is None:\n            errors.append(\"File is empty or contains only comments\")\n            return False, errors\n        \n        # Basic structure validation\n        if not isinstance(content, dict):\n            errors.append(\"Root element must be a dictionary\")\n            return False, errors\n        \n        # Validate required fields\n        required_fields = ['application', 'server']\n        for field in required_fields:\n            if field not in content:\n                errors.append(f\"Missing required field: {field}\")\n        \n        # Validate data types\n        if 'server' in content:\n            server = content['server']\n            if not isinstance(server, dict):\n                errors.append(\"Server configuration must be a dictionary\")\n            else:\n                if 'port' in server and not isinstance(server['port'], int):\n                    errors.append(\"Server port must be an integer\")\n        \n        return len(errors) == 0, errors\n    \n    except yaml.YAMLError as e:\n        errors.append(f\"YAML syntax error: {e}\")\n        return False, errors\n    except Exception as e:\n        errors.append(f\"Unexpected error: {e}\")\n        return False, errors\n\n# Usage\nis_valid, errors = validate_yaml_file('app_config.yaml')\nif not is_valid:\n    print(\"Validation errors:\")\n    for error in errors:\n        print(f\"  - {error}\")\nelse:\n    print(\"YAML file is valid!\")\n"
      ]
    },
    {
      "cell_type": "markdown",
      "metadata": {},
      "source": [
        "### Online Validation Tools\n\n- **[YAML Lint](https://www.yamllint.com/)**: Simple online validator\n- **[Code Beautify](https://codebeautify.org/yaml-validator)**: Advanced validation and formatting\n- **[YAML Validator](https://yamlvalidator.com/)**: Comprehensive validation tool\n\n## Step 8: Real-World Examples\n\n### Web Application Configuration"
      ]
    },
    {
      "cell_type": "markdown",
      "metadata": {},
      "source": [
        "```yaml\n# web_app_config.yaml\napplication:\n  name: E-Commerce Platform\n  version: 2.1.0\n  environment: production\n  timezone: UTC\n\nserver:\n  host: 0.0.0.0\n  port: 8000\n  workers: 4\n  max_connections: 1000\n  timeout: 30\n\ndatabase:\n  primary:\n    type: postgresql\n    host: db-primary.example.com\n    port: 5432\n    name: ecommerce_prod\n    user: app_user\n    password: ${DB_PASSWORD}\n    pool:\n      min_size: 10\n      max_size: 50\n      timeout: 30\n  \n  replica:\n    type: postgresql\n    host: db-replica.example.com\n    port: 5432\n    name: ecommerce_prod_readonly\n    user: readonly_user\n    password: ${DB_READONLY_PASSWORD}\n    pool:\n      min_size: 5\n      max_size: 20\n      timeout: 30\n\ncache:\n  redis:\n    host: redis.example.com\n    port: 6379\n    database: 0\n    password: ${REDIS_PASSWORD}\n    ttl: 3600\n  \n  memory:\n    max_size: 500MB\n    ttl: 300\n\nauthentication:\n  jwt:\n    secret: ${JWT_SECRET}\n    algorithm: HS256\n    expires_in: 3600\n  \n  oauth:\n    google:\n      client_id: ${GOOGLE_CLIENT_ID}\n      client_secret: ${GOOGLE_CLIENT_SECRET}\n      scopes:\n        - email\n        - profile\n    \n    github:\n      client_id: ${GITHUB_CLIENT_ID}\n      client_secret: ${GITHUB_CLIENT_SECRET}\n      scopes:\n        - user\n        - user:email\n\nemail:\n  provider: sendgrid\n  api_key: ${SENDGRID_API_KEY}\n  from_address: noreply@example.com\n  templates:\n    welcome: welcome_email.html\n    password_reset: password_reset.html\n    order_confirmation: order_confirmation.html\n\npayment:\n  stripe:\n    public_key: ${STRIPE_PUBLIC_KEY}\n    secret_key: ${STRIPE_SECRET_KEY}\n    webhook_secret: ${STRIPE_WEBHOOK_SECRET}\n  \n  paypal:\n    client_id: ${PAYPAL_CLIENT_ID}\n    client_secret: ${PAYPAL_CLIENT_SECRET}\n    environment: production\n\nmonitoring:\n  metrics:\n    enabled: true\n    interval: 60\n    endpoints:\n      - /metrics\n      - /health\n      - /ready\n  \n  logging:\n    level: info\n    format: json\n    output:\n      - file: /var/log/app.log\n      - stdout\n    rotation:\n      max_size: 100MB\n      max_files: 30\n      compress: true\n  \n  alerting:\n    slack:\n      webhook_url: ${SLACK_WEBHOOK_URL}\n      channel: #alerts\n    \n    email:\n      recipients:\n        - admin@example.com\n        - devops@example.com\n\nfeatures:\n  enable_signup: true\n  enable_social_login: true\n  enable_two_factor: true\n  enable_api_rate_limiting: true\n  enable_caching: true\n  enable_cdn: true\n  maintenance_mode: false\n```"
      ]
    },
    {
      "cell_type": "markdown",
      "metadata": {},
      "source": [
        "### Kubernetes Deployment Configuration"
      ]
    },
    {
      "cell_type": "markdown",
      "metadata": {},
      "source": [
        "```yaml\n# k8s_deployment.yaml\napiVersion: apps/v1\nkind: Deployment\nmetadata:\n  name: web-app\n  namespace: production\n  labels:\n    app: web-app\n    version: v2.1.0\n    environment: production\nspec:\n  replicas: 3\n  strategy:\n    type: RollingUpdate\n    rollingUpdate:\n      maxSurge: 1\n      maxUnavailable: 0\n  selector:\n    matchLabels:\n      app: web-app\n  template:\n    metadata:\n      labels:\n        app: web-app\n        version: v2.1.0\n      annotations:\n        prometheus.io/scrape: \"true\"\n        prometheus.io/port: \"8000\"\n        prometheus.io/path: \"/metrics\"\n    spec:\n      containers:\n      - name: web-app\n        image: myapp/web-app:v2.1.0\n        ports:\n        - containerPort: 8000\n          name: http\n        - containerPort: 8001\n          name: metrics\n        env:\n        - name: DATABASE_URL\n          valueFrom:\n            secretKeyRef:\n              name: db-secret\n              key: url\n        - name: REDIS_URL\n          valueFrom:\n            secretKeyRef:\n              name: redis-secret\n              key: url\n        - name: JWT_SECRET\n          valueFrom:\n            secretKeyRef:\n              name: jwt-secret\n              key: secret\n        - name: ENVIRONMENT\n          value: \"production\"\n        - name: LOG_LEVEL\n          value: \"info\"\n        resources:\n          requests:\n            memory: \"256Mi\"\n            cpu: \"250m\"\n          limits:\n            memory: \"512Mi\"\n            cpu: \"500m\"\n        livenessProbe:\n          httpGet:\n            path: /health\n            port: 8000\n          initialDelaySeconds: 30\n          periodSeconds: 10\n          timeoutSeconds: 5\n          failureThreshold: 3\n        readinessProbe:\n          httpGet:\n            path: /ready\n            port: 8000\n          initialDelaySeconds: 5\n          periodSeconds: 5\n          timeoutSeconds: 3\n          failureThreshold: 3\n        volumeMounts:\n        - name: config-volume\n          mountPath: /app/config\n        - name: logs-volume\n          mountPath: /var/log\n      volumes:\n      - name: config-volume\n        configMap:\n          name: app-config\n      - name: logs-volume\n        emptyDir: {}\n      imagePullSecrets:\n      - name: registry-secret\n      restartPolicy: Always\n      terminationGracePeriodSeconds: 30\n```"
      ]
    },
    {
      "cell_type": "markdown",
      "metadata": {},
      "source": [
        "## Step 9: Best Practices\n\n### File Organization"
      ]
    },
    {
      "cell_type": "code",
      "execution_count": null,
      "metadata": {},
      "outputs": [],
      "source": [
        "project/\n├── config/\n│   ├── development.yaml\n│   ├── staging.yaml\n│   ├── production.yaml\n│   └── local.yaml\n├── templates/\n│   ├── base_config.yaml\n│   └── environment_overrides.yaml\n├── scripts/\n│   ├── validate_config.py\n│   └── generate_config.py\n└── docs/\n    ├── config_schema.md\n    └── deployment_guide.md\n"
      ]
    },
    {
      "cell_type": "markdown",
      "metadata": {},
      "source": [
        "### Naming Conventions"
      ]
    },
    {
      "cell_type": "markdown",
      "metadata": {},
      "source": [
        "```yaml\n# ✅ Good naming\napplication_name: MyApp\ndatabase_host: db.example.com\napi_endpoint: /api/v1/users\nmax_retry_attempts: 3\n\n# ❌ Avoid\nappName: MyApp\nDB_HOST: db.example.com\napiEndpoint: /api/v1/users\nmaxRetryAttempts: 3\n```"
      ]
    },
    {
      "cell_type": "markdown",
      "metadata": {},
      "source": [
        "### Security Best Practices"
      ]
    },
    {
      "cell_type": "markdown",
      "metadata": {},
      "source": [
        "```yaml\n# ✅ Secure configuration\ndatabase:\n  host: ${DB_HOST}\n  password: ${DB_PASSWORD}\n  ssl: true\n\n# ❌ Insecure - hardcoded secrets\ndatabase:\n  host: localhost\n  password: mysecretpassword\n  ssl: false\n```"
      ]
    },
    {
      "cell_type": "markdown",
      "metadata": {},
      "source": [
        "### Documentation"
      ]
    },
    {
      "cell_type": "markdown",
      "metadata": {},
      "source": [
        "```yaml\n# Well-documented configuration\napplication:\n  # Application name and version\n  name: MyWebApp\n  version: 1.0.0\n  \n  # Environment-specific settings\n  environment: production  # Options: development, staging, production\n  \n  # Feature flags\n  features:\n    # Enable user registration\n    enable_signup: true\n    \n    # Enable social login providers\n    enable_social_login: true\n    \n    # Enable two-factor authentication\n    enable_2fa: false  # TODO: Enable in next release\n\nserver:\n  # Server binding configuration\n  host: 0.0.0.0  # Bind to all interfaces\n  port: 8080     # HTTP port\n  \n  # Performance settings\n  workers: 4     # Number of worker processes\n  timeout: 30    # Request timeout in seconds\n```"
      ]
    },
    {
      "cell_type": "markdown",
      "metadata": {},
      "source": [
        "## Step 10: Troubleshooting\n\n### Common Issues and Solutions\n\n#### Indentation Errors\n\n**Problem**: YAML parsing errors due to inconsistent indentation"
      ]
    },
    {
      "cell_type": "markdown",
      "metadata": {},
      "source": [
        "```yaml\n# ❌ Wrong\nparent:\n  child:\n   grandchild: value  # Mixed spaces\n```"
      ]
    },
    {
      "cell_type": "markdown",
      "metadata": {},
      "source": [
        "**Solution**: Use consistent indentation"
      ]
    },
    {
      "cell_type": "markdown",
      "metadata": {},
      "source": [
        "```yaml\n# ✅ Correct\nparent:\n  child:\n    grandchild: value  # 2 spaces each level\n```"
      ]
    },
    {
      "cell_type": "markdown",
      "metadata": {},
      "source": [
        "#### Special Character Issues\n\n**Problem**: Special characters causing parsing errors"
      ]
    },
    {
      "cell_type": "markdown",
      "metadata": {},
      "source": [
        "```yaml\n# ❌ Problematic\nmessage: Hello: World\npath: C:\\Users\\John\\Documents\n```"
      ]
    },
    {
      "cell_type": "markdown",
      "metadata": {},
      "source": [
        "**Solution**: Use quotes for special characters"
      ]
    },
    {
      "cell_type": "markdown",
      "metadata": {},
      "source": [
        "```yaml\n# ✅ Correct\nmessage: \"Hello: World\"\npath: \"C:\\\\Users\\\\John\\\\Documents\"\n```"
      ]
    },
    {
      "cell_type": "markdown",
      "metadata": {},
      "source": [
        "#### Type Confusion\n\n**Problem**: YAML auto-detecting wrong data types"
      ]
    },
    {
      "cell_type": "markdown",
      "metadata": {},
      "source": [
        "```yaml\n# ❌ May be interpreted as boolean\nenabled: yes\nport: 8080  # May be interpreted as string\n```"
      ]
    },
    {
      "cell_type": "markdown",
      "metadata": {},
      "source": [
        "**Solution**: Be explicit with types"
      ]
    },
    {
      "cell_type": "markdown",
      "metadata": {},
      "source": [
        "```yaml\n# ✅ Explicit types\nenabled: true\nport: 8080  # Integer\nversion: \"1.0.0\"  # String\n```"
      ]
    },
    {
      "cell_type": "markdown",
      "metadata": {},
      "source": [
        "### Debugging Tools"
      ]
    },
    {
      "cell_type": "code",
      "execution_count": null,
      "metadata": {},
      "outputs": [],
      "source": [
        "import yaml\nimport json\n\ndef debug_yaml_file(filename):\n    \"\"\"Debug YAML file by showing parsed structure.\"\"\"\n    try:\n        with open(filename, 'r', encoding='utf-8') as file:\n            content = yaml.safe_load(file)\n        \n        print(\"YAML Structure:\")\n        print(json.dumps(content, indent=2, default=str))\n        \n        print(\"\\nData Types:\")\n        def print_types(obj, path=\"\"):\n            if isinstance(obj, dict):\n                for key, value in obj.items():\n                    current_path = f\"{path}.{key}\" if path else key\n                    print(f\"{current_path}: {type(value).__name__}\")\n                    print_types(value, current_path)\n            elif isinstance(obj, list):\n                for i, item in enumerate(obj):\n                    current_path = f\"{path}[{i}]\"\n                    print(f\"{current_path}: {type(item).__name__}\")\n                    print_types(item, current_path)\n        \n        print_types(content)\n        \n    except Exception as e:\n        print(f\"Error: {e}\")\n\n# Usage\ndebug_yaml_file('app_config.yaml')\n"
      ]
    },
    {
      "cell_type": "markdown",
      "metadata": {},
      "source": [
        "### Performance Tips\n\n1. **Use `yaml.safe_load()`** instead of `yaml.load()` for security\n2. **Cache parsed YAML** when reading frequently\n3. **Use streaming** for very large files\n4. **Validate early** to catch errors quickly"
      ]
    },
    {
      "cell_type": "code",
      "execution_count": null,
      "metadata": {},
      "outputs": [],
      "source": [
        "import yaml\nfrom functools import lru_cache\n\n@lru_cache(maxsize=10)\ndef load_config_cached(filename):\n    \"\"\"Load and cache YAML configuration.\"\"\"\n    with open(filename, 'r', encoding='utf-8') as file:\n        return yaml.safe_load(file)\n\n# Usage - will cache results\nconfig1 = load_config_cached('app_config.yaml')\nconfig2 = load_config_cached('app_config.yaml')  # Returns cached version\n"
      ]
    },
    {
      "cell_type": "markdown",
      "metadata": {},
      "source": [
        "---\n\n**Congratulations!** You've completed the comprehensive YAML tutorial. You now have the knowledge to create, manipulate, and integrate YAML files in your Python applications. Continue practicing with real-world examples and explore advanced features like custom tags and schema validation.\n\n**Next Steps:**\n- Practice with the examples provided\n- Explore the other tutorial files in this collection\n- Apply YAML to your own projects\n- Learn about YAML schema validation\n- Explore YAML in other programming languages"
      ]
    }
  ],
  "metadata": {
    "kernelspec": {
      "display_name": "Python 3",
      "language": "python",
      "name": "python3"
    },
    "language_info": {
      "codemirror_mode": {
        "name": "ipython",
        "version": 3
      },
      "file_extension": ".py",
      "mimetype": "text/x-python",
      "name": "python",
      "nbconvert_exporter": "python",
      "pygments_lexer": "ipython3",
      "version": "3.8.0"
    }
  },
  "nbformat": 4,
  "nbformat_minor": 4
}