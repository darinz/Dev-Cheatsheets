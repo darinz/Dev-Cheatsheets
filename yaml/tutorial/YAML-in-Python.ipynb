{
  "cells": [
    {
      "cell_type": "markdown",
      "metadata": {},
      "source": [
        "# Using YAML in Python\n\n<p align=\"center\">\n  <img src=\"https://img.shields.io/badge/YAML-CB171E?style=flat-square&logo=yaml&logoColor=white\" alt=\"YAML\" />\n  <img src=\"https://img.shields.io/badge/Python-3776AB?style=flat-square&logo=python&logoColor=white\" alt=\"Python\" />\n  <img src=\"https://img.shields.io/badge/PyYAML-FF0000?style=flat-square\" alt=\"PyYAML\" />\n  <img src=\"https://img.shields.io/badge/Advanced-Intermediate-orange?style=flat-square\" alt=\"Advanced\" />\n</p>\n\n---\n\n> **Comprehensive guide to integrating YAML with Python applications, covering PyYAML library usage, advanced features, error handling, and best practices.**\n\n## Table of Contents\n\n- [Introduction](#introduction)\n- [Installation and Setup](#installation-and-setup)\n- [Basic Operations](#basic-operations)\n- [Advanced Features](#advanced-features)\n- [Error Handling and Validation](#error-handling-and-validation)\n- [Performance Optimization](#performance-optimization)\n- [Security Considerations](#security-considerations)\n- [Real-World Examples](#real-world-examples)\n- [Best Practices](#best-practices)\n- [Troubleshooting](#troubleshooting)\n\n## Introduction\n\nYAML (YAML Ain't Markup Language) is a human-readable data serialization format that works seamlessly with Python through the PyYAML library. This tutorial covers everything you need to know about using YAML in Python applications, from basic operations to advanced features and best practices.\n\n### Why Use YAML with Python?\n\n- **Configuration Management**: Easy-to-read configuration files\n- **Data Serialization**: Human-readable data exchange format\n- **API Documentation**: OpenAPI/Swagger specifications\n- **Infrastructure as Code**: Kubernetes, Docker Compose, Ansible\n- **Testing**: Test data and fixtures\n- **Logging**: Structured log configuration\n\n## Installation and Setup\n\n### Installing PyYAML"
      ]
    },
    {
      "cell_type": "markdown",
      "metadata": {},
      "source": [
        "```bash\n# Install PyYAML\npip install pyyaml\n\n# Verify installation\npython -c \"import yaml; print(yaml.__version__)\"\n\n# For development (optional)\npip install pyyaml[all]  # Includes additional features\n```"
      ]
    },
    {
      "cell_type": "markdown",
      "metadata": {},
      "source": [
        "### Alternative Libraries"
      ]
    },
    {
      "cell_type": "markdown",
      "metadata": {},
      "source": [
        "```bash\n# For better performance\npip install ruamel.yaml\n\n# For schema validation\npip install pyyaml-include\npip install yamale\n```"
      ]
    },
    {
      "cell_type": "markdown",
      "metadata": {},
      "source": [
        "### Basic Import"
      ]
    },
    {
      "cell_type": "code",
      "execution_count": null,
      "metadata": {},
      "outputs": [],
      "source": [
        "import yaml\n\n# Check version\nprint(f\"PyYAML version: {yaml.__version__}\")\n\n# Test basic functionality\ntest_data = {'name': 'test', 'value': 42}\nyaml_string = yaml.dump(test_data)\nprint(f\"YAML output: {yaml_string}\")\n"
      ]
    },
    {
      "cell_type": "markdown",
      "metadata": {},
      "source": [
        "## Basic Operations\n\n### Reading YAML Files\n\n#### Simple File Reading"
      ]
    },
    {
      "cell_type": "code",
      "execution_count": null,
      "metadata": {},
      "outputs": [],
      "source": [
        "import yaml\n\ndef read_yaml_file(filename):\n    \"\"\"Read a YAML file and return its content.\"\"\"\n    try:\n        with open(filename, 'r', encoding='utf-8') as file:\n            data = yaml.safe_load(file)\n        return data\n    except FileNotFoundError:\n        print(f\"File {filename} not found\")\n        return None\n    except yaml.YAMLError as e:\n        print(f\"Error parsing YAML: {e}\")\n        return None\n\n# Usage\nconfig = read_yaml_file('config.yaml')\nif config:\n    print(f\"Configuration loaded: {config}\")\n"
      ]
    },
    {
      "cell_type": "markdown",
      "metadata": {},
      "source": [
        "#### Reading with Default Values"
      ]
    },
    {
      "cell_type": "code",
      "execution_count": null,
      "metadata": {},
      "outputs": [],
      "source": [
        "import yaml\nfrom typing import Any, Dict\n\ndef read_yaml_with_defaults(filename: str, defaults: Dict[str, Any] = None) -> Dict[str, Any]:\n    \"\"\"Read YAML file with default values.\"\"\"\n    if defaults is None:\n        defaults = {}\n    \n    try:\n        with open(filename, 'r', encoding='utf-8') as file:\n            data = yaml.safe_load(file) or {}\n        \n        # Merge with defaults\n        merged = defaults.copy()\n        merged.update(data)\n        return merged\n    \n    except FileNotFoundError:\n        print(f\"File {filename} not found, using defaults\")\n        return defaults\n    except yaml.YAMLError as e:\n        print(f\"Error parsing YAML: {e}\")\n        return defaults\n\n# Usage with defaults\ndefault_config = {\n    'server': {'host': 'localhost', 'port': 8080},\n    'database': {'host': 'localhost', 'port': 5432},\n    'logging': {'level': 'info'}\n}\n\nconfig = read_yaml_with_defaults('config.yaml', default_config)\nprint(f\"Final config: {config}\")\n"
      ]
    },
    {
      "cell_type": "markdown",
      "metadata": {},
      "source": [
        "### Writing YAML Files\n\n#### Basic Writing"
      ]
    },
    {
      "cell_type": "code",
      "execution_count": null,
      "metadata": {},
      "outputs": [],
      "source": [
        "import yaml\n\ndef write_yaml_file(data, filename):\n    \"\"\"Write data to a YAML file.\"\"\"\n    try:\n        with open(filename, 'w', encoding='utf-8') as file:\n            yaml.dump(data, file, default_flow_style=False, indent=2)\n        print(f\"Data written to {filename}\")\n        return True\n    except Exception as e:\n        print(f\"Error writing file: {e}\")\n        return False\n\n# Example usage\napp_config = {\n    'application': {\n        'name': 'MyApp',\n        'version': '1.0.0',\n        'description': 'A sample application'\n    },\n    'server': {\n        'host': '0.0.0.0',\n        'port': 8000,\n        'debug': True\n    },\n    'database': {\n        'type': 'postgresql',\n        'host': 'localhost',\n        'port': 5432,\n        'name': 'myapp'\n    }\n}\n\nwrite_yaml_file(app_config, 'app_config.yaml')\n"
      ]
    },
    {
      "cell_type": "markdown",
      "metadata": {},
      "source": [
        "#### Writing with Custom Formatting"
      ]
    },
    {
      "cell_type": "code",
      "execution_count": null,
      "metadata": {},
      "outputs": [],
      "source": [
        "import yaml\n\ndef write_yaml_formatted(data, filename, **kwargs):\n    \"\"\"Write YAML with custom formatting options.\"\"\"\n    default_options = {\n        'default_flow_style': False,\n        'indent': 2,\n        'width': 80,\n        'allow_unicode': True,\n        'sort_keys': False\n    }\n    default_options.update(kwargs)\n    \n    try:\n        with open(filename, 'w', encoding='utf-8') as file:\n            yaml.dump(data, file, **default_options)\n        return True\n    except Exception as e:\n        print(f\"Error writing file: {e}\")\n        return False\n\n# Usage with custom formatting\nwrite_yaml_formatted(\n    app_config, \n    'formatted_config.yaml',\n    indent=4,\n    width=120,\n    sort_keys=True\n)\n"
      ]
    },
    {
      "cell_type": "markdown",
      "metadata": {},
      "source": [
        "### Working with YAML Strings\n\n#### String to Object"
      ]
    },
    {
      "cell_type": "code",
      "execution_count": null,
      "metadata": {},
      "outputs": [],
      "source": [
        "import yaml\n\n# Parse YAML string\nyaml_string = \"\"\"\napplication:\n  name: MyApp\n  version: 1.0.0\nserver:\n  host: localhost\n  port: 8080\n\"\"\"\n\ntry:\n    data = yaml.safe_load(yaml_string)\n    print(f\"Parsed data: {data}\")\nexcept yaml.YAMLError as e:\n    print(f\"Error parsing YAML string: {e}\")\n"
      ]
    },
    {
      "cell_type": "markdown",
      "metadata": {},
      "source": [
        "#### Object to String"
      ]
    },
    {
      "cell_type": "code",
      "execution_count": null,
      "metadata": {},
      "outputs": [],
      "source": [
        "import yaml\n\n# Convert Python object to YAML string\ndata = {\n    'user': {\n        'name': 'John Doe',\n        'email': 'john@example.com',\n        'roles': ['admin', 'user']\n    }\n}\n\nyaml_string = yaml.dump(data, default_flow_style=False, indent=2)\nprint(\"YAML String:\")\nprint(yaml_string)\n"
      ]
    },
    {
      "cell_type": "markdown",
      "metadata": {},
      "source": [
        "## Advanced Features\n\n### Multiple Documents\n\n#### Reading Multiple Documents"
      ]
    },
    {
      "cell_type": "code",
      "execution_count": null,
      "metadata": {},
      "outputs": [],
      "source": [
        "import yaml\n\ndef read_multiple_documents(filename):\n    \"\"\"Read multiple YAML documents from a single file.\"\"\"\n    try:\n        with open(filename, 'r', encoding='utf-8') as file:\n            documents = list(yaml.safe_load_all(file))\n        return documents\n    except Exception as e:\n        print(f\"Error reading documents: {e}\")\n        return []\n\n# Example multi-document file content\nmulti_doc_content = \"\"\"\n---\n# Document 1: Database configuration\ndatabase:\n  host: localhost\n  port: 5432\n  name: myapp\n\n---\n# Document 2: Application settings\nsettings:\n  debug: true\n  log_level: info\n\n---\n# Document 3: User list\nusers:\n  - name: alice\n    role: admin\n  - name: bob\n    role: user\n\"\"\"\n\n# Write multi-document file\nwith open('multi_doc.yaml', 'w') as f:\n    f.write(multi_doc_content)\n\n# Read multi-document file\ndocuments = read_multiple_documents('multi_doc.yaml')\nfor i, doc in enumerate(documents):\n    print(f\"Document {i+1}: {doc}\")\n"
      ]
    },
    {
      "cell_type": "markdown",
      "metadata": {},
      "source": [
        "#### Writing Multiple Documents"
      ]
    },
    {
      "cell_type": "code",
      "execution_count": null,
      "metadata": {},
      "outputs": [],
      "source": [
        "import yaml\n\ndef write_multiple_documents(documents, filename):\n    \"\"\"Write multiple documents to a YAML file.\"\"\"\n    try:\n        with open(filename, 'w', encoding='utf-8') as file:\n            yaml.dump_all(documents, file, default_flow_style=False, indent=2)\n        print(f\"Multiple documents written to {filename}\")\n        return True\n    except Exception as e:\n        print(f\"Error writing documents: {e}\")\n        return False\n\n# Example documents\ndoc1 = {'database': {'host': 'localhost', 'port': 5432}}\ndoc2 = {'settings': {'debug': True, 'log_level': 'info'}}\ndoc3 = {'users': [{'name': 'alice', 'role': 'admin'}]}\n\ndocuments = [doc1, doc2, doc3]\nwrite_multiple_documents(documents, 'output_multi.yaml')\n"
      ]
    },
    {
      "cell_type": "markdown",
      "metadata": {},
      "source": [
        "### Anchors and Aliases\n\n#### Using Anchors and Aliases"
      ]
    },
    {
      "cell_type": "code",
      "execution_count": null,
      "metadata": {},
      "outputs": [],
      "source": [
        "import yaml\n\n# YAML with anchors and aliases\nyaml_with_anchors = \"\"\"\n# Define reusable content\ndefaults: &defaults\n  timeout: 30\n  retries: 3\n  cache: true\n\n# Use in multiple services\napi_service:\n  <<: *defaults  # Merge defaults\n  name: api\n  port: 8000\n\nweb_service:\n  <<: *defaults  # Merge defaults\n  name: web\n  port: 8080\n\"\"\"\n\n# Parse and use\ndata = yaml.safe_load(yaml_with_anchors)\nprint(\"API Service:\", data['api_service'])\nprint(\"Web Service:\", data['web_service'])\n"
      ]
    },
    {
      "cell_type": "markdown",
      "metadata": {},
      "source": [
        "#### Creating Anchors Programmatically"
      ]
    },
    {
      "cell_type": "code",
      "execution_count": null,
      "metadata": {},
      "outputs": [],
      "source": [
        "import yaml\n\ndef create_yaml_with_anchors():\n    \"\"\"Create YAML content with anchors programmatically.\"\"\"\n    # Define base configurations\n    base_config = {\n        'timeout': 30,\n        'retries': 3,\n        'cache': True\n    }\n    \n    # Create services with shared configuration\n    services = {\n        'defaults': base_config,\n        'api_service': {\n            'name': 'api',\n            'port': 8000,\n            **base_config  # Merge base config\n        },\n        'web_service': {\n            'name': 'web',\n            'port': 8080,\n            **base_config  # Merge base config\n        }\n    }\n    \n    return yaml.dump(services, default_flow_style=False, indent=2)\n\n# Generate YAML with anchors\nyaml_content = create_yaml_with_anchors()\nprint(\"Generated YAML:\")\nprint(yaml_content)\n"
      ]
    },
    {
      "cell_type": "markdown",
      "metadata": {},
      "source": [
        "### Custom Tags and Types\n\n#### Working with Custom Tags"
      ]
    },
    {
      "cell_type": "code",
      "execution_count": null,
      "metadata": {},
      "outputs": [],
      "source": [
        "import yaml\nfrom datetime import datetime\nimport base64\n\n# Custom tag constructors\ndef timestamp_constructor(loader, node):\n    \"\"\"Convert timestamp string to datetime object.\"\"\"\n    value = loader.construct_scalar(node)\n    return datetime.fromisoformat(value.replace('Z', '+00:00'))\n\ndef binary_constructor(loader, node):\n    \"\"\"Convert base64 string to bytes.\"\"\"\n    value = loader.construct_scalar(node)\n    return base64.b64decode(value)\n\n# Register custom constructors\nyaml.add_constructor('!timestamp', timestamp_constructor)\nyaml.add_constructor('!binary', binary_constructor)\n\n# YAML with custom tags\nyaml_with_tags = \"\"\"\ncreated_at: !timestamp 2023-12-01T10:30:00Z\nbinary_data: !binary SGVsbG8gV29ybGQ=\n\"\"\"\n\n# Parse with custom tags\ndata = yaml.safe_load(yaml_with_tags)\nprint(f\"Created at: {data['created_at']} (type: {type(data['created_at'])})\")\nprint(f\"Binary data: {data['binary_data']} (type: {type(data['binary_data'])})\")\n"
      ]
    },
    {
      "cell_type": "markdown",
      "metadata": {},
      "source": [
        "#### Custom Representers"
      ]
    },
    {
      "cell_type": "code",
      "execution_count": null,
      "metadata": {},
      "outputs": [],
      "source": [
        "import yaml\nfrom datetime import datetime\n\n# Custom representers\ndef datetime_representer(dumper, data):\n    \"\"\"Represent datetime as ISO format string.\"\"\"\n    return dumper.represent_scalar('!timestamp', data.isoformat())\n\n# Register custom representers\nyaml.add_representer(datetime, datetime_representer)\n\n# Test custom representer\ndata = {\n    'created_at': datetime.now(),\n    'message': 'Hello World'\n}\n\nyaml_string = yaml.dump(data, default_flow_style=False)\nprint(\"YAML with custom datetime representation:\")\nprint(yaml_string)\n"
      ]
    },
    {
      "cell_type": "markdown",
      "metadata": {},
      "source": [
        "## Error Handling and Validation\n\n### Comprehensive Error Handling"
      ]
    },
    {
      "cell_type": "code",
      "execution_count": null,
      "metadata": {},
      "outputs": [],
      "source": [
        "import yaml\nfrom typing import Dict, Any, Tuple, Optional\n\nclass YAMLError(Exception):\n    \"\"\"Custom YAML error class.\"\"\"\n    pass\n\ndef safe_load_yaml(filename: str) -> Tuple[Optional[Dict[str, Any]], Optional[str]]:\n    \"\"\"Safely load YAML file with detailed error handling.\"\"\"\n    try:\n        with open(filename, 'r', encoding='utf-8') as file:\n            content = yaml.safe_load(file)\n        \n        if content is None:\n            return None, \"File is empty or contains only comments\"\n        \n        return content, None\n    \n    except FileNotFoundError:\n        return None, f\"File '{filename}' not found\"\n    except PermissionError:\n        return None, f\"Permission denied accessing '{filename}'\"\n    except yaml.YAMLError as e:\n        return None, f\"YAML parsing error: {e}\"\n    except UnicodeDecodeError as e:\n        return None, f\"Encoding error: {e}\"\n    except Exception as e:\n        return None, f\"Unexpected error: {e}\"\n\n# Usage\ndata, error = safe_load_yaml('config.yaml')\nif error:\n    print(f\"Error loading YAML: {error}\")\nelse:\n    print(f\"Successfully loaded: {data}\")\n"
      ]
    },
    {
      "cell_type": "markdown",
      "metadata": {},
      "source": [
        "### YAML Validation"
      ]
    },
    {
      "cell_type": "code",
      "execution_count": null,
      "metadata": {},
      "outputs": [],
      "source": [
        "import yaml\nfrom typing import Dict, Any, List, Tuple\n\ndef validate_yaml_structure(data: Dict[str, Any], schema: Dict[str, Any]) -> Tuple[bool, List[str]]:\n    \"\"\"Validate YAML data against a simple schema.\"\"\"\n    errors = []\n    \n    def validate_field(data_dict: Dict, schema_dict: Dict, path: str = \"\"):\n        for key, expected_type in schema_dict.items():\n            current_path = f\"{path}.{key}\" if path else key\n            \n            if key not in data_dict:\n                errors.append(f\"Missing required field: {current_path}\")\n                continue\n            \n            value = data_dict[key]\n            \n            if isinstance(expected_type, type):\n                if not isinstance(value, expected_type):\n                    errors.append(f\"Field {current_path} must be {expected_type.__name__}, got {type(value).__name__}\")\n            elif isinstance(expected_type, dict):\n                if not isinstance(value, dict):\n                    errors.append(f\"Field {current_path} must be a dictionary\")\n                else:\n                    validate_field(value, expected_type, current_path)\n            elif isinstance(expected_type, list):\n                if not isinstance(value, list):\n                    errors.append(f\"Field {current_path} must be a list\")\n                elif expected_type and not all(isinstance(item, expected_type[0]) for item in value):\n                    errors.append(f\"All items in {current_path} must be {expected_type[0].__name__}\")\n    \n    validate_field(data, schema)\n    return len(errors) == 0, errors\n\n# Example schema\nconfig_schema = {\n    'application': {\n        'name': str,\n        'version': str\n    },\n    'server': {\n        'host': str,\n        'port': int\n    },\n    'database': {\n        'host': str,\n        'port': int,\n        'name': str\n    }\n}\n\n# Test validation\ntest_config = {\n    'application': {\n        'name': 'MyApp',\n        'version': '1.0.0'\n    },\n    'server': {\n        'host': 'localhost',\n        'port': 8080\n    },\n    'database': {\n        'host': 'localhost',\n        'port': 5432,\n        'name': 'myapp'\n    }\n}\n\nis_valid, errors = validate_yaml_structure(test_config, config_schema)\nif is_valid:\n    print(\"Configuration is valid!\")\nelse:\n    print(\"Validation errors:\")\n    for error in errors:\n        print(f\"  - {error}\")\n"
      ]
    },
    {
      "cell_type": "markdown",
      "metadata": {},
      "source": [
        "## Performance Optimization\n\n### Caching and Optimization"
      ]
    },
    {
      "cell_type": "code",
      "execution_count": null,
      "metadata": {},
      "outputs": [],
      "source": [
        "import yaml\nfrom functools import lru_cache\nimport os\nfrom typing import Dict, Any\n\nclass YAMLConfigManager:\n    \"\"\"Optimized YAML configuration manager with caching.\"\"\"\n    \n    def __init__(self, config_dir: str = \"config\"):\n        self.config_dir = config_dir\n        self._cache = {}\n        self._file_timestamps = {}\n    \n    def _get_file_timestamp(self, filename: str) -> float:\n        \"\"\"Get file modification timestamp.\"\"\"\n        try:\n            return os.path.getmtime(filename)\n        except OSError:\n            return 0\n    \n    def _is_cache_valid(self, filename: str) -> bool:\n        \"\"\"Check if cached data is still valid.\"\"\"\n        if filename not in self._cache:\n            return False\n        \n        current_timestamp = self._get_file_timestamp(filename)\n        cached_timestamp = self._file_timestamps.get(filename, 0)\n        \n        return current_timestamp <= cached_timestamp\n    \n    def load_config(self, filename: str, use_cache: bool = True) -> Dict[str, Any]:\n        \"\"\"Load configuration with optional caching.\"\"\"\n        full_path = os.path.join(self.config_dir, filename)\n        \n        if use_cache and self._is_cache_valid(full_path):\n            return self._cache[full_path]\n        \n        try:\n            with open(full_path, 'r', encoding='utf-8') as file:\n                data = yaml.safe_load(file) or {}\n            \n            if use_cache:\n                self._cache[full_path] = data\n                self._file_timestamps[full_path] = self._get_file_timestamp(full_path)\n            \n            return data\n        \n        except Exception as e:\n            print(f\"Error loading config {filename}: {e}\")\n            return {}\n    \n    def clear_cache(self):\n        \"\"\"Clear the configuration cache.\"\"\"\n        self._cache.clear()\n        self._file_timestamps.clear()\n    \n    @lru_cache(maxsize=10)\n    def get_cached_value(self, filename: str, key_path: str, default=None):\n        \"\"\"Get a specific value from cached configuration.\"\"\"\n        config = self.load_config(filename)\n        \n        keys = key_path.split('.')\n        value = config\n        \n        for key in keys:\n            if isinstance(value, dict) and key in value:\n                value = value[key]\n            else:\n                return default\n        \n        return value\n\n# Usage\nconfig_manager = YAMLConfigManager()\n\n# Load with caching\napp_config = config_manager.load_config('app.yaml')\ndb_config = config_manager.load_config('database.yaml')\n\n# Get cached values\nserver_host = config_manager.get_cached_value('app.yaml', 'server.host', 'localhost')\ndb_port = config_manager.get_cached_value('database.yaml', 'database.port', 5432)\n"
      ]
    },
    {
      "cell_type": "markdown",
      "metadata": {},
      "source": [
        "### Streaming for Large Files"
      ]
    },
    {
      "cell_type": "code",
      "execution_count": null,
      "metadata": {},
      "outputs": [],
      "source": [
        "import yaml\nfrom typing import Iterator, Dict, Any\n\ndef stream_yaml_documents(filename: str) -> Iterator[Dict[str, Any]]:\n    \"\"\"Stream YAML documents from a large file.\"\"\"\n    try:\n        with open(filename, 'r', encoding='utf-8') as file:\n            for document in yaml.safe_load_all(file):\n                if document is not None:\n                    yield document\n    except Exception as e:\n        print(f\"Error streaming YAML: {e}\")\n\n# Usage for large files\ndef process_large_yaml_file(filename: str):\n    \"\"\"Process a large YAML file document by document.\"\"\"\n    for i, document in enumerate(stream_yaml_documents(filename)):\n        print(f\"Processing document {i+1}: {type(document)}\")\n        # Process each document individually\n        # This prevents loading the entire file into memory\n"
      ]
    },
    {
      "cell_type": "markdown",
      "metadata": {},
      "source": [
        "## Security Considerations\n\n### Safe Loading"
      ]
    },
    {
      "cell_type": "code",
      "execution_count": null,
      "metadata": {},
      "outputs": [],
      "source": [
        "import yaml\n\n# ❌ Dangerous - allows code execution\ndef unsafe_load_yaml(filename):\n    with open(filename, 'r') as file:\n        return yaml.load(file)  # Can execute arbitrary code\n\n# ✅ Safe - prevents code execution\ndef safe_load_yaml(filename):\n    with open(filename, 'r') as file:\n        return yaml.safe_load(file)  # Only loads basic data types\n\n# ✅ Even safer - with custom safe loader\nclass SafeLoader(yaml.SafeLoader):\n    \"\"\"Custom safe loader with additional security.\"\"\"\n    \n    def construct_python_object(self, node):\n        \"\"\"Prevent loading of custom Python objects.\"\"\"\n        raise yaml.ConstructorError(\n            None, None, \n            \"Custom Python objects are not allowed\", \n            node.start_mark\n        )\n\ndef extra_safe_load_yaml(filename):\n    with open(filename, 'r') as file:\n        return yaml.load(file, Loader=SafeLoader)\n"
      ]
    },
    {
      "cell_type": "markdown",
      "metadata": {},
      "source": [
        "### Input Validation"
      ]
    },
    {
      "cell_type": "code",
      "execution_count": null,
      "metadata": {},
      "outputs": [],
      "source": [
        "import yaml\nimport re\nfrom typing import Dict, Any\n\ndef validate_yaml_security(yaml_content: str) -> Tuple[bool, List[str]]:\n    \"\"\"Validate YAML content for security issues.\"\"\"\n    security_issues = []\n    \n    # Check for potentially dangerous patterns\n    dangerous_patterns = [\n        r'!python/object',  # Custom Python objects\n        r'!python/name',    # Python names\n        r'!python/module',  # Python modules\n        r'__import__',      # Import statements\n        r'eval\\s*\\(',       # Eval function calls\n        r'exec\\s*\\(',       # Exec function calls\n    ]\n    \n    for pattern in dangerous_patterns:\n        if re.search(pattern, yaml_content, re.IGNORECASE):\n            security_issues.append(f\"Potentially dangerous pattern found: {pattern}\")\n    \n    # Check for suspicious file operations\n    file_operations = [\n        r'open\\s*\\(',       # File opening\n        r'file\\s*\\(',       # File operations\n        r'os\\.',            # OS module usage\n        r'subprocess',      # Subprocess execution\n    ]\n    \n    for pattern in file_operations:\n        if re.search(pattern, yaml_content, re.IGNORECASE):\n            security_issues.append(f\"Suspicious operation found: {pattern}\")\n    \n    return len(security_issues) == 0, security_issues\n\n# Usage\nyaml_content = \"\"\"\n# Safe content\ndatabase:\n  host: localhost\n  port: 5432\n\n# Potentially dangerous content\ndangerous: !python/object:builtins.eval\n  args: [\"__import__('os').system('rm -rf /')\"]\n\"\"\"\n\nis_safe, issues = validate_yaml_security(yaml_content)\nif not is_safe:\n    print(\"Security issues found:\")\n    for issue in issues:\n        print(f\"  - {issue}\")\n"
      ]
    },
    {
      "cell_type": "markdown",
      "metadata": {},
      "source": [
        "## Real-World Examples\n\n### Configuration Management System"
      ]
    },
    {
      "cell_type": "code",
      "execution_count": null,
      "metadata": {},
      "outputs": [],
      "source": [
        "import yaml\nimport os\nfrom typing import Dict, Any, Optional\nfrom pathlib import Path\n\nclass ConfigManager:\n    \"\"\"Advanced configuration management system.\"\"\"\n    \n    def __init__(self, config_dir: str = \"config\"):\n        self.config_dir = Path(config_dir)\n        self.config_dir.mkdir(exist_ok=True)\n        self._configs = {}\n        self._environment = os.getenv('ENVIRONMENT', 'development')\n    \n    def load_environment_config(self, config_name: str) -> Dict[str, Any]:\n        \"\"\"Load configuration for specific environment.\"\"\"\n        # Try environment-specific config first\n        env_config_file = self.config_dir / f\"{config_name}.{self._environment}.yaml\"\n        base_config_file = self.config_dir / f\"{config_name}.yaml\"\n        \n        config = {}\n        \n        # Load base configuration\n        if base_config_file.exists():\n            config.update(self._load_yaml_file(base_config_file))\n        \n        # Override with environment-specific configuration\n        if env_config_file.exists():\n            env_config = self._load_yaml_file(env_config_file)\n            config = self._deep_merge(config, env_config)\n        \n        return config\n    \n    def _load_yaml_file(self, file_path: Path) -> Dict[str, Any]:\n        \"\"\"Load YAML file safely.\"\"\"\n        try:\n            with open(file_path, 'r', encoding='utf-8') as file:\n                return yaml.safe_load(file) or {}\n        except Exception as e:\n            print(f\"Error loading {file_path}: {e}\")\n            return {}\n    \n    def _deep_merge(self, base: Dict[str, Any], override: Dict[str, Any]) -> Dict[str, Any]:\n        \"\"\"Deep merge two dictionaries.\"\"\"\n        result = base.copy()\n        \n        for key, value in override.items():\n            if key in result and isinstance(result[key], dict) and isinstance(value, dict):\n                result[key] = self._deep_merge(result[key], value)\n            else:\n                result[key] = value\n        \n        return result\n    \n    def save_config(self, config_name: str, data: Dict[str, Any], environment: Optional[str] = None):\n        \"\"\"Save configuration to file.\"\"\"\n        if environment is None:\n            environment = self._environment\n        \n        config_file = self.config_dir / f\"{config_name}.{environment}.yaml\"\n        \n        try:\n            with open(config_file, 'w', encoding='utf-8') as file:\n                yaml.dump(data, file, default_flow_style=False, indent=2)\n            print(f\"Configuration saved to {config_file}\")\n        except Exception as e:\n            print(f\"Error saving configuration: {e}\")\n    \n    def get_config(self, config_name: str) -> Dict[str, Any]:\n        \"\"\"Get configuration with caching.\"\"\"\n        if config_name not in self._configs:\n            self._configs[config_name] = self.load_environment_config(config_name)\n        return self._configs[config_name]\n\n# Usage example\nconfig_manager = ConfigManager()\n\n# Create sample configurations\nbase_config = {\n    'database': {\n        'host': 'localhost',\n        'port': 5432,\n        'name': 'myapp'\n    },\n    'server': {\n        'host': '0.0.0.0',\n        'port': 8080\n    }\n}\n\ndev_config = {\n    'database': {\n        'host': 'dev-db.local',\n        'name': 'myapp_dev'\n    },\n    'server': {\n        'debug': True\n    }\n}\n\n# Save configurations\nconfig_manager.save_config('app', base_config, 'base')\nconfig_manager.save_config('app', dev_config, 'development')\n\n# Load configuration\napp_config = config_manager.get_config('app')\nprint(f\"Loaded config: {app_config}\")\n"
      ]
    },
    {
      "cell_type": "markdown",
      "metadata": {},
      "source": [
        "### API Configuration System"
      ]
    },
    {
      "cell_type": "code",
      "execution_count": null,
      "metadata": {},
      "outputs": [],
      "source": [
        "import yaml\nfrom typing import Dict, Any, List\nfrom dataclasses import dataclass\nfrom pathlib import Path\n\n@dataclass\nclass DatabaseConfig:\n    host: str\n    port: int\n    name: str\n    user: str\n    password: str\n\n@dataclass\nclass ServerConfig:\n    host: str\n    port: int\n    debug: bool\n    workers: int\n\n@dataclass\nclass APIConfig:\n    database: DatabaseConfig\n    server: ServerConfig\n    features: Dict[str, bool]\n\nclass APIConfigManager:\n    \"\"\"API configuration manager with type safety.\"\"\"\n    \n    def __init__(self, config_file: str = \"api_config.yaml\"):\n        self.config_file = Path(config_file)\n        self._config = None\n    \n    def load_config(self) -> APIConfig:\n        \"\"\"Load and validate API configuration.\"\"\"\n        if not self.config_file.exists():\n            raise FileNotFoundError(f\"Configuration file {self.config_file} not found\")\n        \n        with open(self.config_file, 'r', encoding='utf-8') as file:\n            data = yaml.safe_load(file)\n        \n        # Validate and create typed configuration\n        return self._create_typed_config(data)\n    \n    def _create_typed_config(self, data: Dict[str, Any]) -> APIConfig:\n        \"\"\"Create typed configuration from dictionary.\"\"\"\n        # Validate database configuration\n        db_data = data.get('database', {})\n        database = DatabaseConfig(\n            host=db_data.get('host', 'localhost'),\n            port=db_data.get('port', 5432),\n            name=db_data.get('name', 'api'),\n            user=db_data.get('user', 'api_user'),\n            password=db_data.get('password', '')\n        )\n        \n        # Validate server configuration\n        server_data = data.get('server', {})\n        server = ServerConfig(\n            host=server_data.get('host', '0.0.0.0'),\n            port=server_data.get('port', 8000),\n            debug=server_data.get('debug', False),\n            workers=server_data.get('workers', 4)\n        )\n        \n        # Get features\n        features = data.get('features', {})\n        \n        return APIConfig(database=database, server=server, features=features)\n    \n    def save_config(self, config: APIConfig):\n        \"\"\"Save typed configuration to YAML file.\"\"\"\n        data = {\n            'database': {\n                'host': config.database.host,\n                'port': config.database.port,\n                'name': config.database.name,\n                'user': config.database.user,\n                'password': config.database.password\n            },\n            'server': {\n                'host': config.server.host,\n                'port': config.server.port,\n                'debug': config.server.debug,\n                'workers': config.server.workers\n            },\n            'features': config.features\n        }\n        \n        with open(self.config_file, 'w', encoding='utf-8') as file:\n            yaml.dump(data, file, default_flow_style=False, indent=2)\n\n# Usage\napi_config_manager = APIConfigManager()\n\n# Create sample configuration\nsample_config = {\n    'database': {\n        'host': 'db.example.com',\n        'port': 5432,\n        'name': 'api_prod',\n        'user': 'api_user',\n        'password': '${DB_PASSWORD}'\n    },\n    'server': {\n        'host': '0.0.0.0',\n        'port': 8000,\n        'debug': False,\n        'workers': 8\n    },\n    'features': {\n        'enable_auth': True,\n        'enable_rate_limiting': True,\n        'enable_caching': True\n    }\n}\n\n# Save sample configuration\nwith open('api_config.yaml', 'w') as f:\n    yaml.dump(sample_config, f, default_flow_style=False, indent=2)\n\n# Load and use typed configuration\ntry:\n    config = api_config_manager.load_config()\n    print(f\"Database: {config.database.host}:{config.database.port}\")\n    print(f\"Server: {config.server.host}:{config.server.port}\")\n    print(f\"Features: {config.features}\")\nexcept Exception as e:\n    print(f\"Error loading configuration: {e}\")\n"
      ]
    },
    {
      "cell_type": "markdown",
      "metadata": {},
      "source": [
        "## Best Practices\n\n### Configuration Organization"
      ]
    },
    {
      "cell_type": "code",
      "execution_count": null,
      "metadata": {},
      "outputs": [],
      "source": [
        "# config/\n# ├── base/\n# │   ├── database.yaml\n# │   ├── server.yaml\n# │   └── logging.yaml\n# ├── environments/\n# │   ├── development.yaml\n# │   ├── staging.yaml\n# │   └── production.yaml\n# └── secrets/\n#     └── .env (not in YAML, but referenced)\n\nimport yaml\nimport os\nfrom pathlib import Path\nfrom typing import Dict, Any\n\nclass BestPracticeConfigManager:\n    \"\"\"Configuration manager following best practices.\"\"\"\n    \n    def __init__(self, config_dir: str = \"config\"):\n        self.config_dir = Path(config_dir)\n        self._config_cache = {}\n    \n    def load_complete_config(self, environment: str = None) -> Dict[str, Any]:\n        \"\"\"Load complete configuration following best practices.\"\"\"\n        if environment is None:\n            environment = os.getenv('ENVIRONMENT', 'development')\n        \n        # Load base configurations\n        base_config = self._load_base_configs()\n        \n        # Load environment-specific overrides\n        env_config = self._load_environment_config(environment)\n        \n        # Merge configurations\n        final_config = self._deep_merge(base_config, env_config)\n        \n        # Resolve environment variables\n        final_config = self._resolve_environment_variables(final_config)\n        \n        return final_config\n    \n    def _load_base_configs(self) -> Dict[str, Any]:\n        \"\"\"Load all base configuration files.\"\"\"\n        base_dir = self.config_dir / \"base\"\n        config = {}\n        \n        if base_dir.exists():\n            for yaml_file in base_dir.glob(\"*.yaml\"):\n                config_name = yaml_file.stem\n                config[config_name] = self._load_yaml_file(yaml_file)\n        \n        return config\n    \n    def _load_environment_config(self, environment: str) -> Dict[str, Any]:\n        \"\"\"Load environment-specific configuration.\"\"\"\n        env_file = self.config_dir / \"environments\" / f\"{environment}.yaml\"\n        \n        if env_file.exists():\n            return self._load_yaml_file(env_file)\n        \n        return {}\n    \n    def _load_yaml_file(self, file_path: Path) -> Dict[str, Any]:\n        \"\"\"Load YAML file with error handling.\"\"\"\n        try:\n            with open(file_path, 'r', encoding='utf-8') as file:\n                return yaml.safe_load(file) or {}\n        except Exception as e:\n            print(f\"Warning: Could not load {file_path}: {e}\")\n            return {}\n    \n    def _deep_merge(self, base: Dict[str, Any], override: Dict[str, Any]) -> Dict[str, Any]:\n        \"\"\"Deep merge two dictionaries.\"\"\"\n        result = base.copy()\n        \n        for key, value in override.items():\n            if key in result and isinstance(result[key], dict) and isinstance(value, dict):\n                result[key] = self._deep_merge(result[key], value)\n            else:\n                result[key] = value\n        \n        return result\n    \n    def _resolve_environment_variables(self, config: Dict[str, Any]) -> Dict[str, Any]:\n        \"\"\"Resolve environment variable references in configuration.\"\"\"\n        def resolve_value(value):\n            if isinstance(value, str) and value.startswith('${') and value.endswith('}'):\n                env_var = value[2:-1]\n                return os.getenv(env_var, value)\n            elif isinstance(value, dict):\n                return {k: resolve_value(v) for k, v in value.items()}\n            elif isinstance(value, list):\n                return [resolve_value(item) for item in value]\n            else:\n                return value\n        \n        return resolve_value(config)\n\n# Usage\nconfig_manager = BestPracticeConfigManager()\n\n# Load complete configuration\nconfig = config_manager.load_complete_config('production')\nprint(\"Complete configuration loaded successfully\")\n"
      ]
    },
    {
      "cell_type": "markdown",
      "metadata": {},
      "source": [
        "### Error Handling and Logging"
      ]
    },
    {
      "cell_type": "code",
      "execution_count": null,
      "metadata": {},
      "outputs": [],
      "source": [
        "import yaml\nimport logging\nfrom typing import Dict, Any, Optional\nfrom pathlib import Path\n\n# Configure logging\nlogging.basicConfig(level=logging.INFO)\nlogger = logging.getLogger(__name__)\n\nclass RobustYAMLManager:\n    \"\"\"YAML manager with comprehensive error handling and logging.\"\"\"\n    \n    def __init__(self, config_dir: str = \"config\"):\n        self.config_dir = Path(config_dir)\n        self._loaded_files = set()\n    \n    def load_config_with_logging(self, filename: str) -> Optional[Dict[str, Any]]:\n        \"\"\"Load YAML configuration with comprehensive logging.\"\"\"\n        file_path = self.config_dir / filename\n        \n        logger.info(f\"Attempting to load configuration from {file_path}\")\n        \n        try:\n            # Check if file exists\n            if not file_path.exists():\n                logger.error(f\"Configuration file {file_path} does not exist\")\n                return None\n            \n            # Check file permissions\n            if not os.access(file_path, os.R_OK):\n                logger.error(f\"No read permission for {file_path}\")\n                return None\n            \n            # Load and parse YAML\n            with open(file_path, 'r', encoding='utf-8') as file:\n                content = yaml.safe_load(file)\n            \n            if content is None:\n                logger.warning(f\"Configuration file {file_path} is empty or contains only comments\")\n                return {}\n            \n            # Validate basic structure\n            if not isinstance(content, dict):\n                logger.error(f\"Configuration file {file_path} must contain a dictionary at root level\")\n                return None\n            \n            self._loaded_files.add(str(file_path))\n            logger.info(f\"Successfully loaded configuration from {file_path}\")\n            \n            return content\n        \n        except yaml.YAMLError as e:\n            logger.error(f\"YAML parsing error in {file_path}: {e}\")\n            return None\n        except UnicodeDecodeError as e:\n            logger.error(f\"Encoding error in {file_path}: {e}\")\n            return None\n        except Exception as e:\n            logger.error(f\"Unexpected error loading {file_path}: {e}\")\n            return None\n    \n    def get_loaded_files(self) -> set:\n        \"\"\"Get list of successfully loaded files.\"\"\"\n        return self._loaded_files.copy()\n    \n    def validate_config_structure(self, config: Dict[str, Any], required_keys: list) -> bool:\n        \"\"\"Validate configuration structure.\"\"\"\n        missing_keys = [key for key in required_keys if key not in config]\n        \n        if missing_keys:\n            logger.error(f\"Missing required configuration keys: {missing_keys}\")\n            return False\n        \n        logger.info(\"Configuration structure validation passed\")\n        return True\n\n# Usage\nyaml_manager = RobustYAMLManager()\n\n# Load configuration with logging\nconfig = yaml_manager.load_config_with_logging('app.yaml')\n\nif config:\n    # Validate structure\n    required_keys = ['database', 'server']\n    if yaml_manager.validate_config_structure(config, required_keys):\n        print(\"Configuration is valid and ready to use\")\n        print(f\"Loaded files: {yaml_manager.get_loaded_files()}\")\n"
      ]
    },
    {
      "cell_type": "markdown",
      "metadata": {},
      "source": [
        "## Troubleshooting\n\n### Common Issues and Solutions"
      ]
    },
    {
      "cell_type": "code",
      "execution_count": null,
      "metadata": {},
      "outputs": [],
      "source": [
        "import yaml\nimport sys\nfrom typing import Dict, Any\n\ndef troubleshoot_yaml_issues(filename: str):\n    \"\"\"Troubleshoot common YAML issues.\"\"\"\n    print(f\"Troubleshooting YAML file: {filename}\")\n    print(\"=\" * 50)\n    \n    try:\n        with open(filename, 'r', encoding='utf-8') as file:\n            content = file.read()\n        \n        # Check for common issues\n        issues = []\n        \n        # Check for tabs\n        if '\\t' in content:\n            issues.append(\"File contains tabs - use spaces for indentation\")\n        \n        # Check for mixed indentation\n        lines = content.split('\\n')\n        indent_sizes = set()\n        for line in lines:\n            if line.strip() and not line.startswith('#'):\n                indent = len(line) - len(line.lstrip())\n                if indent > 0:\n                    indent_sizes.add(indent)\n        \n        if len(indent_sizes) > 1:\n            issues.append(\"Mixed indentation detected - use consistent spacing\")\n        \n        # Check for special characters\n        special_chars = ['&', '*', '!', '|', '>', '\"', \"'\"]\n        for char in special_chars:\n            if char in content and f\"'{char}'\" not in content and f'\"{char}\"' not in content:\n                issues.append(f\"Special character '{char}' found - consider quoting\")\n        \n        # Try to parse\n        try:\n            parsed = yaml.safe_load(content)\n            if parsed is None:\n                issues.append(\"File is empty or contains only comments\")\n        except yaml.YAMLError as e:\n            issues.append(f\"YAML parsing error: {e}\")\n        \n        # Report issues\n        if issues:\n            print(\"Issues found:\")\n            for issue in issues:\n                print(f\"  - {issue}\")\n        else:\n            print(\"No issues detected - YAML file appears to be valid\")\n    \n    except FileNotFoundError:\n        print(f\"Error: File {filename} not found\")\n    except Exception as e:\n        print(f\"Error: {e}\")\n\n# Usage\ntroubleshoot_yaml_issues('config.yaml')\n"
      ]
    },
    {
      "cell_type": "markdown",
      "metadata": {},
      "source": [
        "### Debugging Tools"
      ]
    },
    {
      "cell_type": "code",
      "execution_count": null,
      "metadata": {},
      "outputs": [],
      "source": [
        "import yaml\nimport json\nfrom typing import Any\n\ndef debug_yaml_content(yaml_content: str):\n    \"\"\"Debug YAML content by showing parsed structure and types.\"\"\"\n    print(\"YAML Content Debug\")\n    print(\"=\" * 30)\n    \n    try:\n        # Parse YAML\n        data = yaml.safe_load(yaml_content)\n        \n        print(\"Parsed Structure:\")\n        print(json.dumps(data, indent=2, default=str))\n        \n        print(\"\\nData Types:\")\n        def print_types(obj, path=\"\"):\n            if isinstance(obj, dict):\n                for key, value in obj.items():\n                    current_path = f\"{path}.{key}\" if path else key\n                    print(f\"{current_path}: {type(value).__name__}\")\n                    print_types(value, current_path)\n            elif isinstance(obj, list):\n                for i, item in enumerate(obj):\n                    current_path = f\"{path}[{i}]\"\n                    print(f\"{current_path}: {type(item).__name__}\")\n                    print_types(item, current_path)\n        \n        print_types(data)\n        \n    except yaml.YAMLError as e:\n        print(f\"YAML Error: {e}\")\n    except Exception as e:\n        print(f\"Error: {e}\")\n\n# Example usage\nsample_yaml = \"\"\"\napplication:\n  name: MyApp\n  version: 1.0.0\n  settings:\n    debug: true\n    port: 8080\n  features:\n    - auth\n    - logging\n    - caching\n\"\"\"\n\ndebug_yaml_content(sample_yaml)\n"
      ]
    },
    {
      "cell_type": "markdown",
      "metadata": {},
      "source": [
        "---\n\n**You've now mastered YAML integration with Python!** This comprehensive guide covers everything from basic operations to advanced features, security considerations, and real-world applications. \n\n**Next Steps:**\n- Practice with the examples provided\n- Implement YAML configuration in your own projects\n- Explore advanced features like custom tags and schema validation\n- Learn about YAML in other contexts (Kubernetes, Docker, etc.)\n- Consider using alternative libraries like `ruamel.yaml` for specific use cases"
      ]
    }
  ],
  "metadata": {
    "kernelspec": {
      "display_name": "Python 3",
      "language": "python",
      "name": "python3"
    },
    "language_info": {
      "codemirror_mode": {
        "name": "ipython",
        "version": 3
      },
      "file_extension": ".py",
      "mimetype": "text/x-python",
      "name": "python",
      "nbconvert_exporter": "python",
      "pygments_lexer": "ipython3",
      "version": "3.8.0"
    }
  },
  "nbformat": 4,
  "nbformat_minor": 4
}