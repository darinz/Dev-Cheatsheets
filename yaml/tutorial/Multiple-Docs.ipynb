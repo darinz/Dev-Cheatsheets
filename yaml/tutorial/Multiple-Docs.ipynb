{
  "cells": [
    {
      "cell_type": "markdown",
      "metadata": {},
      "source": [
        "# Working with Multiple YAML Documents\n",
        "\n",
        "<p align=\"center\">\n",
        "  <img src=\"https://img.shields.io/badge/YAML-CB171E?style=flat-square&logo=yaml&logoColor=white\" alt=\"YAML\" />\n",
        "  <img src=\"https://img.shields.io/badge/Python-3776AB?style=flat-square&logo=python&logoColor=white\" alt=\"Python\" />\n",
        "  <img src=\"https://img.shields.io/badge/Multi-Document-Advanced-blue?style=flat-square\" alt=\"Multi-Document\" />\n",
        "  <img src=\"https://img.shields.io/badge/PyYAML-FF0000?style=flat-square\" alt=\"PyYAML\" />\n",
        "</p>\n",
        "\n",
        "---\n",
        "\n",
        "> **Comprehensive guide to working with multiple YAML documents in single files, covering creation, parsing, manipulation, and real-world applications.**\n",
        "\n",
        "## Table of Contents\n",
        "\n",
        "- [Introduction](#introduction)\n",
        "- [Understanding Multi-Document YAML](#understanding-multi-document-yaml)\n",
        "- [Creating Multiple Documents](#creating-multiple-documents)\n",
        "- [Reading Multiple Documents](#reading-multiple-documents)\n",
        "- [Writing Multiple Documents](#writing-multiple-documents)\n",
        "- [Advanced Operations](#advanced-operations)\n",
        "- [Real-World Examples](#real-world-examples)\n",
        "- [Best Practices](#best-practices)\n",
        "- [Troubleshooting](#troubleshooting)\n",
        "- [Performance Considerations](#performance-considerations)\n",
        "\n",
        "## Introduction\n",
        "\n",
        "YAML supports multiple documents within a single file, separated by `---` (three hyphens). This feature is incredibly useful for organizing related configurations, managing different environments, or storing multiple data structures in one file. This tutorial covers everything you need to know about working with multiple YAML documents.\n",
        "\n",
        "### Why Use Multiple Documents?\n",
        "\n",
        "- **Organization**: Group related configurations together\n",
        "- **Environment Management**: Store dev, staging, and production configs\n",
        "- **Modularity**: Separate concerns into different documents\n",
        "- **Efficiency**: Reduce file management overhead\n",
        "- **Version Control**: Track changes to related configurations together\n",
        "\n",
        "## Understanding Multi-Document YAML\n",
        "\n",
        "### Document Separators\n",
        "\n",
        "YAML uses `---` to separate documents within a single file:"
      ]
    },
    {
      "cell_type": "markdown",
      "metadata": {},
      "source": [
        "```yaml\n",
        "# Document 1\n",
        "---\n",
        "database:\n",
        "  host: localhost\n",
        "  port: 5432\n",
        "\n",
        "# Document 2\n",
        "---\n",
        "settings:\n",
        "  debug: true\n",
        "  log_level: info\n",
        "\n",
        "# Document 3\n",
        "---\n",
        "users:\n",
        "  - name: alice\n",
        "    role: admin\n",
        "  - name: bob\n",
        "    role: user\n",
        "```"
      ]
    },
    {
      "cell_type": "markdown",
      "metadata": {},
      "source": [
        "### Document Structure Rules\n",
        "\n",
        "1. **First document**: No leading `---` required (but recommended)\n",
        "2. **Subsequent documents**: Must start with `---`\n",
        "3. **Empty documents**: Can be represented by `---` alone\n",
        "4. **Comments**: Can appear between documents\n",
        "5. **Indentation**: Each document is independent\n",
        "\n",
        "### Valid Multi-Document Examples"
      ]
    },
    {
      "cell_type": "markdown",
      "metadata": {},
      "source": [
        "```yaml\n",
        "# Valid: First document without separator\n",
        "database:\n",
        "  host: localhost\n",
        "  port: 5432\n",
        "\n",
        "---\n",
        "# Valid: Second document with separator\n",
        "settings:\n",
        "  debug: true\n",
        "\n",
        "---\n",
        "# Valid: Empty document\n",
        "---\n",
        "\n",
        "---\n",
        "# Valid: Another document\n",
        "users:\n",
        "  - name: alice\n",
        "```"
      ]
    },
    {
      "cell_type": "markdown",
      "metadata": {},
      "source": [
        "## Creating Multiple Documents\n",
        "\n",
        "### Basic Multi-Document Creation"
      ]
    },
    {
      "cell_type": "markdown",
      "metadata": {},
      "source": [
        "```python\n",
        "import yaml\n",
        "\n",
        "def create_multi_document_yaml():\n",
        "    \"\"\"Create a YAML file with multiple documents.\"\"\"\n",
        "    \n",
        "    # Define multiple documents\n",
        "    documents = [\n",
        "        {\n",
        "            'database': {\n",
        "                'host': 'localhost',\n",
        "                'port': 5432,\n",
        "                'name': 'myapp'\n",
        "            }\n",
        "        },\n",
        "        {\n",
        "            'server': {\n",
        "                'host': '0.0.0.0',\n",
        "                'port': 8080,\n",
        "                'debug': True\n",
        "            }\n",
        "        },\n",
        "        {\n",
        "            'users': [\n",
        "                {'name': 'alice', 'role': 'admin'},\n",
        "                {'name': 'bob', 'role': 'user'},\n",
        "                {'name': 'charlie', 'role': 'guest'}\n",
        "            ]\n",
        "        }\n",
        "    ]\n",
        "    \n",
        "    # Write to file\n",
        "    with open('multi_doc.yaml', 'w', encoding='utf-8') as file:\n",
        "```"
      ]
    },
    {
      "cell_type": "markdown",
      "metadata": {},
      "source": [
        "To read multiple documents from a single YAML file in Python, you can use the `yaml.safe_load_all` function provided by PyYAML."
      ]
    },
    {
      "cell_type": "markdown",
      "metadata": {},
      "source": [
        "#### Example Code to Read Multiple YAML Documents"
      ]
    },
    {
      "cell_type": "code",
      "execution_count": null,
      "metadata": {
        "vscode": {
          "languageId": "plaintext"
        }
      },
      "outputs": [],
      "source": [
        "python\n",
        "import yaml\n",
        "\n",
        "# Read the YAML file containing multiple documents\n",
        "with open('multiple_docs.yaml', 'r') as file:\n",
        "    documents = list(yaml.safe_load_all(file))\n",
        "\n",
        "# Access each document\n",
        "database_config = documents[0]\n",
        "settings_config = documents[1]\n",
        "users_config = documents[2]\n",
        "\n",
        "# Print the contents of each document\n",
        "print(\"Database Configuration:\", database_config)\n",
        "print(\"Settings Configuration:\", settings_config)\n",
        "print(\"Users Configuration:\", users_config)"
      ]
    },
    {
      "cell_type": "markdown",
      "metadata": {},
      "source": [
        "### Explanation\n",
        "\n",
        "- **`yaml.safe_load_all(file)`**: Loads all documents in the YAML file as an iterator. Converting it to a list allows you to access each document individually.\n",
        "- **Accessing documents**: Each document can be accessed using list indexing (`documents[0]`, `documents[1]`, etc.).\n",
        "\n",
        "### Step 6: Writing Multiple YAML Documents in Python\n",
        "\n",
        "To write multiple documents to a single YAML file in Python, you can use the `yaml.dump_all` function.\n",
        "\n",
        "#### Example Code to Write Multiple YAML Documents\n"
      ]
    },
    {
      "cell_type": "code",
      "execution_count": null,
      "metadata": {},
      "outputs": [],
      "source": [
        "import yaml\n",
        "\n",
        "# Define multiple documents as separate dictionaries\n",
        "database_config = {\n",
        "    'database': {\n",
        "        'host': 'localhost',\n",
        "        'port': 5432,\n",
        "    }\n",
        "}\n",
        "\n",
        "settings_config = {\n",
        "    'settings': {\n",
        "        'debug': True,\n",
        "        'log_level': 'info'\n",
        "    }\n",
        "}\n",
        "\n",
        "users_config = {\n",
        "    'users': [\n",
        "        {'name': 'alice', 'role': 'admin'},\n",
        "        {'name': 'bob', 'role': 'user'},\n",
        "        {'name': 'charlie', 'role': 'guest'}\n",
        "    ]\n",
        "}\n",
        "\n",
        "# List of all documents\n",
        "documents = [database_config, settings_config, users_config]\n",
        "\n",
        "# Write the documents to a YAML file\n",
        "with open('multiple_docs_output.yaml', 'w') as file:\n",
        "    yaml.dump_all(documents, file)"
      ]
    },
    {
      "cell_type": "markdown",
      "metadata": {},
      "source": [
        "### Explanation\n",
        "\n",
        "- **Define documents**: Create dictionaries for each document.\n",
        "- **`yaml.dump_all(documents, file)`**: Writes all documents to the specified file, separating them with `---`.\n",
        "\n",
        "### Conclusion\n",
        "\n",
        "Creating multiple YAML documents within a single file is a useful feature for organizing related configurations or data. By separating documents with `---`, you can easily manage multiple YAML structures in one file. Using PyYAML, you can read and write these multi-document files in Python, making it a powerful tool for configuration management and data serialization."
      ]
    },
    {
      "cell_type": "markdown",
      "metadata": {},
      "source": []
    }
  ],
  "metadata": {
    "kernelspec": {
      "display_name": "Python 3",
      "language": "python",
      "name": "python3"
    },
    "language_info": {
      "codemirror_mode": {
        "name": "ipython",
        "version": 3
      },
      "file_extension": ".py",
      "mimetype": "text/x-python",
      "name": "python",
      "nbconvert_exporter": "python",
      "pygments_lexer": "ipython3",
      "version": "3.8.0"
    }
  },
  "nbformat": 4,
  "nbformat_minor": 4
}
